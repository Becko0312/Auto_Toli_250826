{
  "nbformat": 4,
  "nbformat_minor": 0,
  "metadata": {
    "colab": {
      "name": "Tacotron-MongolianTTS-Elbegdorj.ipynb",
      "provenance": []
    },
    "kernelspec": {
      "name": "python3",
      "display_name": "Python 3"
    },
    "accelerator": "GPU"
  },
  "cells": [
    {
      "metadata": {
        "id": "IO3C42dY3poz"
      },
      "cell_type": "markdown",
      "source": [
        "# Mongolian TTS Transfer Learning with Tacotron\n",
        "\n",
        "This is a Mongolian text to speech transfer learning demo using  [tugstugi/Tacotron-2](https://github.com/tugstugi/Tacotron-2) (this is a fork of [Rayhane-mamah/Tacotron-2](https://github.com/Rayhane-mamah/Tacotron-2))\n",
        "\n",
        "First, a Tacotron2 model was trained using a 5 hours Mongolian Bible dataset for 150K steps: [5 hours Mongolian Bible TTS demo](https://colab.research.google.com/github/tugstugi/mongolian-nlp/blob/master/misc/Tacotron_MongolianTTS.ipynb)\n",
        "\n",
        "After that, a 10 minutes dataset created from a speech of the former Mongolian president Elbegdorj using this video:\n",
        "\n"
      ]
    },
    {
      "metadata": {
        "id": "x_P-SINZGOSd",
        "colab": {
          "base_uri": "https://localhost:8080/",
          "height": 322
        },
        "outputId": "99b16cac-9e69-4dd0-92a1-3a5b00aa4b38"
      },
      "cell_type": "code",
      "source": [
        "import IPython\n",
        "from IPython.display import YouTubeVideo\n",
        "YouTubeVideo(id='IgekYdZqUrM', width=600, height=300)"
      ],
      "execution_count": 1,
      "outputs": [
        {
          "output_type": "execute_result",
          "data": {
            "text/plain": [
              "<IPython.lib.display.YouTubeVideo at 0x7d961d8179e0>"
            ],
            "text/html": [
              "\n",
              "        <iframe\n",
              "            width=\"600\"\n",
              "            height=\"300\"\n",
              "            src=\"https://www.youtube.com/embed/IgekYdZqUrM\"\n",
              "            frameborder=\"0\"\n",
              "            allowfullscreen\n",
              "            \n",
              "        ></iframe>\n",
              "        "
            ],
            "image/jpeg": "[encoded data removed]"
          },
          "metadata": {},
          "execution_count": 1
        }
      ]
    },
    {
      "metadata": {
        "id": "SmSKVR2uGq4l"
      },
      "cell_type": "markdown",
      "source": [
        "With this 10 minutes dataset, the pretrained Tacotron model was fine tuned for 50K more steps.\n",
        "\n",
        "To execute this demo, click on \"**Runtime->Run All**\" (Google account required).\n",
        "\n",
        "For more Mongolian TTS demos, visit [tugstugi/mongolian-nlp#mongolian-tts](https://github.com/tugstugi/mongolian-nlp#mongolian-tts).\n",
        "\n",
        "## Setup\n",
        "\n",
        "### Install dependencies"
      ]
    },
    {
      "metadata": {
        "id": "rHOZD-APm0ef",
        "colab": {
          "base_uri": "https://localhost:8080/",
          "height": 408
        },
        "outputId": "6356ced0-d67b-435f-c2a1-f82cd58188fb"
      },
      "cell_type": "code",
      "source": [
        "%tensorflow_version 1.x\n",
        "import os\n",
        "from os.path import exists, join, expanduser\n",
        "\n",
        "import IPython\n",
        "from IPython.display import Audio, clear_output\n",
        "\n",
        "# pyaudio needs this system dependency!\n",
        "!apt-get install -qq portaudio19-dev > /dev/null\n",
        "# clone Tacotron-2 and install dependencies\n",
        "if not exists('Tacotron-2'):\n",
        "  !git clone https://github.com/tugstugi/Tacotron-2.git && cd Tacotron-2 && pip install -q -r requirements.txt"
      ],
      "execution_count": 2,
      "outputs": [
        {
          "output_type": "error",
          "ename": "ValueError",
          "evalue": "Tensorflow 1 is unsupported in Colab.\n\nYour notebook should be updated to use Tensorflow 2.\nSee the guide at https://www.tensorflow.org/guide/migrate#migrate-from-tensorflow-1x-to-tensorflow-2.",
          "traceback": [
            "\u001b[0;31m---------------------------------------------------------------------------\u001b[0m",
            "\u001b[0;31mValueError\u001b[0m                                Traceback (most recent call last)",
            "\u001b[0;32m/tmp/ipython-input-2701006092.py\u001b[0m in \u001b[0;36m<cell line: 0>\u001b[0;34m()\u001b[0m\n\u001b[0;32m----> 1\u001b[0;31m \u001b[0mget_ipython\u001b[0m\u001b[0;34m(\u001b[0m\u001b[0;34m)\u001b[0m\u001b[0;34m.\u001b[0m\u001b[0mrun_line_magic\u001b[0m\u001b[0;34m(\u001b[0m\u001b[0;34m'tensorflow_version'\u001b[0m\u001b[0;34m,\u001b[0m \u001b[0;34m'1.x'\u001b[0m\u001b[0;34m)\u001b[0m\u001b[0;34m\u001b[0m\u001b[0;34m\u001b[0m\u001b[0m\n\u001b[0m\u001b[1;32m      2\u001b[0m \u001b[0;32mimport\u001b[0m \u001b[0mos\u001b[0m\u001b[0;34m\u001b[0m\u001b[0;34m\u001b[0m\u001b[0m\n\u001b[1;32m      3\u001b[0m \u001b[0;32mfrom\u001b[0m \u001b[0mos\u001b[0m\u001b[0;34m.\u001b[0m\u001b[0mpath\u001b[0m \u001b[0;32mimport\u001b[0m \u001b[0mexists\u001b[0m\u001b[0;34m,\u001b[0m \u001b[0mjoin\u001b[0m\u001b[0;34m,\u001b[0m \u001b[0mexpanduser\u001b[0m\u001b[0;34m\u001b[0m\u001b[0;34m\u001b[0m\u001b[0m\n\u001b[1;32m      4\u001b[0m \u001b[0;34m\u001b[0m\u001b[0m\n\u001b[1;32m      5\u001b[0m \u001b[0;32mimport\u001b[0m \u001b[0mIPython\u001b[0m\u001b[0;34m\u001b[0m\u001b[0;34m\u001b[0m\u001b[0m\n",
            "\u001b[0;32m/usr/local/lib/python3.12/dist-packages/IPython/core/interactiveshell.py\u001b[0m in \u001b[0;36mrun_line_magic\u001b[0;34m(self, magic_name, line, _stack_depth)\u001b[0m\n\u001b[1;32m   2416\u001b[0m                 \u001b[0mkwargs\u001b[0m\u001b[0;34m[\u001b[0m\u001b[0;34m'local_ns'\u001b[0m\u001b[0;34m]\u001b[0m \u001b[0;34m=\u001b[0m \u001b[0mself\u001b[0m\u001b[0;34m.\u001b[0m\u001b[0mget_local_scope\u001b[0m\u001b[0;34m(\u001b[0m\u001b[0mstack_depth\u001b[0m\u001b[0;34m)\u001b[0m\u001b[0;34m\u001b[0m\u001b[0;34m\u001b[0m\u001b[0m\n\u001b[1;32m   2417\u001b[0m             \u001b[0;32mwith\u001b[0m \u001b[0mself\u001b[0m\u001b[0;34m.\u001b[0m\u001b[0mbuiltin_trap\u001b[0m\u001b[0;34m:\u001b[0m\u001b[0;34m\u001b[0m\u001b[0;34m\u001b[0m\u001b[0m\n\u001b[0;32m-> 2418\u001b[0;31m                 \u001b[0mresult\u001b[0m \u001b[0;34m=\u001b[0m \u001b[0mfn\u001b[0m\u001b[0;34m(\u001b[0m\u001b[0;34m*\u001b[0m\u001b[0margs\u001b[0m\u001b[0;34m,\u001b[0m \u001b[0;34m**\u001b[0m\u001b[0mkwargs\u001b[0m\u001b[0;34m)\u001b[0m\u001b[0;34m\u001b[0m\u001b[0;34m\u001b[0m\u001b[0m\n\u001b[0m\u001b[1;32m   2419\u001b[0m             \u001b[0;32mreturn\u001b[0m \u001b[0mresult\u001b[0m\u001b[0;34m\u001b[0m\u001b[0;34m\u001b[0m\u001b[0m\n\u001b[1;32m   2420\u001b[0m \u001b[0;34m\u001b[0m\u001b[0m\n",
            "\u001b[0;32m/usr/local/lib/python3.12/dist-packages/google/colab/_tensorflow_magics.py\u001b[0m in \u001b[0;36m_tensorflow_version\u001b[0;34m(line)\u001b[0m\n\u001b[1;32m     33\u001b[0m \u001b[0;34m\u001b[0m\u001b[0m\n\u001b[1;32m     34\u001b[0m   \u001b[0;32mif\u001b[0m \u001b[0mline\u001b[0m\u001b[0;34m.\u001b[0m\u001b[0mstartswith\u001b[0m\u001b[0;34m(\u001b[0m\u001b[0;34m\"1\"\u001b[0m\u001b[0;34m)\u001b[0m\u001b[0;34m:\u001b[0m\u001b[0;34m\u001b[0m\u001b[0;34m\u001b[0m\u001b[0m\n\u001b[0;32m---> 35\u001b[0;31m     raise ValueError(\n\u001b[0m\u001b[1;32m     36\u001b[0m         \u001b[0;31m# pylint: disable=line-too-long\u001b[0m\u001b[0;34m\u001b[0m\u001b[0;34m\u001b[0m\u001b[0m\n\u001b[1;32m     37\u001b[0m         textwrap.dedent(\n",
            "\u001b[0;31mValueError\u001b[0m: Tensorflow 1 is unsupported in Colab.\n\nYour notebook should be updated to use Tensorflow 2.\nSee the guide at https://www.tensorflow.org/guide/migrate#migrate-from-tensorflow-1x-to-tensorflow-2."
          ]
        }
      ]
    },
    {
      "metadata": {
        "id": "4TzihIMl6rYO"
      },
      "cell_type": "markdown",
      "source": [
        "### Download a pretrained model"
      ]
    },
    {
      "metadata": {
        "id": "Xvi7pCSKm5FK"
      },
      "cell_type": "code",
      "source": [
        "if not exists('Tacotron-2/logs-Tacotron/taco_pretrained'):\n",
        "  # download pretrained model from the Google Drive link\n",
        "  pretrained_file_id = \"1LHjqCbaQIuOkxeW07N7jejUYXyckYYJq\"\n",
        "  pretrained_file_name = \"taco_pretrained.tar.gz\"\n",
        "  !curl -c ./cookie -s -L \"https://drive.google.com/uc?export=download&id={pretrained_file_id}\" > /dev/null\n",
        "  confirm_text = !awk '/download/ {print $NF}' ./cookie\n",
        "  confirm_text = confirm_text[0]\n",
        "  !curl -Lb ./cookie \"https://drive.google.com/uc?export=download&confirm={confirm_text}&id={pretrained_file_id}\" -o {pretrained_file_name}\n",
        "  # extract it\n",
        "  !mkdir Tacotron-2/logs-Tacotron/\n",
        "  !tar xvfz {pretrained_file_name} --directory Tacotron-2/logs-Tacotron/"
      ],
      "execution_count": null,
      "outputs": []
    },
    {
      "metadata": {
        "id": "ofusOJ4GJ1gB"
      },
      "cell_type": "markdown",
      "source": [
        "## Synthesize\n",
        "\n",
        "### Allowed characters\n",
        "\n",
        "абвгдеёжзийклмноөпрстуүфхцчшъыьэюя-.,!?\n",
        "\n",
        "### Sentences to synthesize\n",
        "\n",
        "The 10 minutes dataset is very noise and contains very fast and also very slow speeches. So the generated speech will be also sometimes very fast and sometimes very slow! Longer texts will not work well."
      ]
    },
    {
      "metadata": {
        "id": "gTU850Crn9ny"
      },
      "cell_type": "code",
      "source": [
        "SENTENCES = [\n",
        "    \"Би үнэнээ хэлье. Би Эрдэнэт үйлдвэрт шахаа хийдэг байсан.\",\n",
        "    \"Би дандаа худлаа ярьдаг байсан.\",\n",
        "    \"Намбарын Энхбаяр миний хамгийн сайн найз байсан.\",\n",
        "    \"Би ерөнхий сайд байж үзээгүй ээ.\",\n",
        "    \"Энэ бол миний төрсөн нутаг. Монголын сайхан орон.\"\n",
        "]\n",
        "text_list = \"\\n\".join(SENTENCES)"
      ],
      "execution_count": null,
      "outputs": []
    },
    {
      "metadata": {
        "id": "TYJibp3MKBQx"
      },
      "cell_type": "markdown",
      "source": [
        "### Synthetize on CPU"
      ]
    },
    {
      "metadata": {
        "id": "gRNi8rihobs8"
      },
      "cell_type": "code",
      "source": [
        "# synthesize with Tacotron\n",
        "!cd Tacotron-2/ && python simple-synthesize.py --text_list \"{text_list}\"\n",
        "\n",
        "# show the text and WAV files\n",
        "clear_output()\n",
        "for i in range(len(SENTENCES)):\n",
        "  print(SENTENCES[i])\n",
        "  IPython.display.display(Audio('Tacotron-2/tacotron_output/logs-eval/wavs/wav-batch_%i_sentence_0-linear.wav' %i, rate=22050))"
      ],
      "execution_count": null,
      "outputs": []
    }
  ]
}